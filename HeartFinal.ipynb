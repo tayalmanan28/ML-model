{
  "nbformat": 4,
  "nbformat_minor": 0,
  "metadata": {
    "colab": {
      "name": "HeartFinal.ipynb",
      "provenance": [],
      "collapsed_sections": []
    },
    "kernelspec": {
      "name": "python3",
      "display_name": "Python 3"
    }
  },
  "cells": [
    {
      "cell_type": "markdown",
      "metadata": {
        "id": "zXuyjRfkY_ru"
      },
      "source": [
        "Importing the Libraries"
      ]
    },
    {
      "cell_type": "code",
      "metadata": {
        "id": "K53bbMZZXtbz"
      },
      "source": [
        "import pickle \n",
        "import numpy as np\n",
        "from sklearn.ensemble import RandomForestClassifier\n",
        "from sklearn.metrics import accuracy_score"
      ],
      "execution_count": 1,
      "outputs": []
    },
    {
      "cell_type": "code",
      "metadata": {
        "id": "dNVPqZh9YWtr"
      },
      "source": [
        "filename = 'LogisticRegressionHeart.sav'"
      ],
      "execution_count": 2,
      "outputs": []
    },
    {
      "cell_type": "markdown",
      "metadata": {
        "id": "svoSB2GpZFDp"
      },
      "source": [
        "Loading the model"
      ]
    },
    {
      "cell_type": "code",
      "metadata": {
        "id": "gl6BT1GmYBVv"
      },
      "source": [
        "logReg = pickle.load(open(filename, 'rb'))"
      ],
      "execution_count": 4,
      "outputs": []
    },
    {
      "cell_type": "markdown",
      "metadata": {
        "id": "ZrVphbEBZL2K"
      },
      "source": [
        "Creating a random symptoms sample. The input shape should be (1, 13)"
      ]
    },
    {
      "cell_type": "code",
      "metadata": {
        "id": "dpcNY5VsYtn8"
      },
      "source": [
        "trial_numpy = np.random.randint(0, 2, (1, 13))"
      ],
      "execution_count": 9,
      "outputs": []
    },
    {
      "cell_type": "markdown",
      "metadata": {
        "id": "L1WJw-5nZZYN"
      },
      "source": [
        "Predicting the disease for the created sample"
      ]
    },
    {
      "cell_type": "code",
      "metadata": {
        "colab": {
          "base_uri": "https://localhost:8080/"
        },
        "id": "bf3hrxFQYwxc",
        "outputId": "e5ca1833-9ae6-4e88-cdf1-7901b336e10b"
      },
      "source": [
        "logReg.predict(trial_numpy)"
      ],
      "execution_count": 10,
      "outputs": [
        {
          "output_type": "execute_result",
          "data": {
            "text/plain": [
              "array([1])"
            ]
          },
          "metadata": {
            "tags": []
          },
          "execution_count": 10
        }
      ]
    },
    {
      "cell_type": "markdown",
      "metadata": {
        "id": "wa9P8Lo6kaWJ"
      },
      "source": [
        "1 => presence of Heart Disease <br>\n",
        "0 => absence of Heart Disease"
      ]
    },
    {
      "cell_type": "code",
      "metadata": {
        "id": "FGKCbo0-bD7i"
      },
      "source": [
        ""
      ],
      "execution_count": null,
      "outputs": []
    }
  ]
}